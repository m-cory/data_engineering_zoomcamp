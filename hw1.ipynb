{
 "cells": [
  {
   "cell_type": "markdown",
   "id": "6440bf46-77b3-4661-ade2-49d10827726c",
   "metadata": {},
   "source": [
    "# Homework 1"
   ]
  },
  {
   "cell_type": "markdown",
   "id": "aff16277-0731-4cb2-92a9-e963958b4bcd",
   "metadata": {},
   "source": [
    "## Question 1. Understanding docker first run\n",
    "\n",
    "Run docker with the python:3.12.8 image in an interactive mode, use the entrypoint bash.\n",
    "\n",
    "What's the version of pip in the image?"
   ]
  },
  {
   "cell_type": "markdown",
   "id": "fd69ffac-028c-4dbd-8c70-dd8211a81f40",
   "metadata": {},
   "source": [
    "I created a Docker container from the following Dockerfile:\n",
    "```Dockerfile\n",
    "FROM python:3.12.8\n",
    "\n",
    "RUN pip install pandas\n",
    "\n",
    "ENTRYPOINT [ \"bash\" ]"
   ]
  },
  {
   "cell_type": "markdown",
   "id": "ee43c2ee-d2be-412c-b78d-016652b476ef",
   "metadata": {},
   "source": [
    "Then I ran `pip --version` and got `24.3.1`."
   ]
  },
  {
   "cell_type": "markdown",
   "id": "ba5fe6ee-e23d-429d-836b-81c306cbb0dd",
   "metadata": {},
   "source": [
    "## Question 2. Understanding Docker networking and docker-compose\n",
    "Given the following docker-compose.yaml, what is the hostname and port that pgadmin should use to connect to the postgres database?\n",
    "\n",
    "```yaml\n",
    "services:\n",
    "  db:\n",
    "    container_name: postgres\n",
    "    image: postgres:17-alpine\n",
    "    environment:\n",
    "      POSTGRES_USER: 'postgres'\n",
    "      POSTGRES_PASSWORD: 'postgres'\n",
    "      POSTGRES_DB: 'ny_taxi'\n",
    "    ports:\n",
    "      - '5433:5432'\n",
    "    volumes:\n",
    "      - vol-pgdata:/var/lib/postgresql/data\n",
    "\n",
    "  pgadmin:\n",
    "    container_name: pgadmin\n",
    "    image: dpage/pgadmin4:latest\n",
    "    environment:\n",
    "      PGADMIN_DEFAULT_EMAIL: \"pgadmin@pgadmin.com\"\n",
    "      PGADMIN_DEFAULT_PASSWORD: \"pgadmin\"\n",
    "    ports:\n",
    "      - \"8080:80\"\n",
    "    volumes:\n",
    "      - vol-pgadmin_data:/var/lib/pgadmin  \n",
    "\n",
    "volumes:\n",
    "  vol-pgdata:\n",
    "    name: vol-pgdata\n",
    "  vol-pgadmin_data:\n",
    "    name: vol-pgadmin_data"
   ]
  },
  {
   "cell_type": "markdown",
   "id": "5a667259-be0e-43d3-8e4b-e1574ca93045",
   "metadata": {},
   "source": [
    "The hostname is `db` and the port is `5432`."
   ]
  },
  {
   "cell_type": "markdown",
   "id": "18391884-5349-4fa7-87cf-ecae28387751",
   "metadata": {},
   "source": [
    "## Prepare Postgres\n",
    "\n",
    "Run Postgres and load data as shown in the videos We'll use the green taxi trips from October 2019:\n",
    "\n",
    "`wget https://github.com/DataTalksClub/nyc-tlc-data/releases/download/green/green_tripdata_2019-10.csv.gz`\n",
    "\n",
    "You will also need the dataset with zones:\n",
    "\n",
    "`wget https://github.com/DataTalksClub/nyc-tlc-data/releases/download/misc/taxi_zone_lookup.csv`\n",
    "\n",
    "Download this data and put it into Postgres.\n",
    "\n",
    "You can use the code from the course. It's up to you whether you want to use Jupyter or a python script."
   ]
  },
  {
   "cell_type": "markdown",
   "id": "59ece080-54f3-4fd5-87e0-d2887e5f0918",
   "metadata": {},
   "source": [
    "## Question 3. Trip Segmentation Count\n",
    "\n",
    "During the period of October 1st 2019 (inclusive) and November 1st 2019 (exclusive), how many trips, respectively, happened:\n",
    "\n",
    "    Up to 1 mile\n",
    "    In between 1 (exclusive) and 3 miles (inclusive),\n",
    "    In between 3 (exclusive) and 7 miles (inclusive),\n",
    "    In between 7 (exclusive) and 10 miles (inclusive),\n",
    "    Over 10 miles\n"
   ]
  },
  {
   "cell_type": "code",
   "execution_count": 1,
   "id": "3bacf826-2f9e-48a1-b9b3-aa1d28195ec4",
   "metadata": {},
   "outputs": [],
   "source": [
    "import psycopg2\n",
    "\n",
    "conn = psycopg2.connect(\n",
    "    host=\"localhost\",\n",
    "    port=\"5433\",\n",
    "    database=\"ny_taxi\",\n",
    "    user=\"postgres\",\n",
    "    password=\"postgres\"\n",
    ")\n",
    "\n",
    "cur = conn.cursor()"
   ]
  },
  {
   "cell_type": "code",
   "execution_count": 2,
   "id": "53ff376f-6d0f-4613-be03-5b51dbbd989e",
   "metadata": {},
   "outputs": [],
   "source": [
    "q3_query = \"\"\"SELECT\n",
    "    COUNT(CASE WHEN trip_distance <= 1 THEN 1 END) AS trips_up_to_1_mile,\n",
    "    COUNT(CASE WHEN trip_distance > 1 AND trip_distance <= 3 THEN 1 END) AS trips_between_1_and_3_miles,\n",
    "    COUNT(CASE WHEN trip_distance > 3 AND trip_distance <= 7 THEN 1 END) AS trips_between_3_and_7_miles,\n",
    "    COUNT(CASE WHEN trip_distance > 7 AND trip_distance <= 10 THEN 1 END) AS trips_between_7_and_10_miles,\n",
    "    COUNT(CASE WHEN trip_distance > 10 THEN 1 END) AS trips_over_10_miles\n",
    "FROM\n",
    "    green_tripdata\n",
    "WHERE\n",
    "    lpep_dropoff_datetime >= '2019-10-01'\n",
    "    AND lpep_dropoff_datetime < '2019-11-01';\n",
    "\"\"\""
   ]
  },
  {
   "cell_type": "code",
   "execution_count": 3,
   "id": "96caae17-075b-4bf9-9e3d-7b2d2e702ad4",
   "metadata": {},
   "outputs": [
    {
     "name": "stdout",
     "output_type": "stream",
     "text": [
      "[(104802, 198924, 109603, 27678, 35189)]\n"
     ]
    }
   ],
   "source": [
    "cur.execute(q3_query)\n",
    "rows = cur.fetchall()\n",
    "print(rows)"
   ]
  },
  {
   "cell_type": "markdown",
   "id": "1b271af2-8193-4048-b0bc-78ee29ee9d93",
   "metadata": {},
   "source": [
    "## Question 4. Longest trip for each day\n",
    "\n",
    "Which was the pick up day with the longest trip distance? Use the pick up time for your calculations.\n",
    "\n",
    "Tip: For every day, we only care about one single trip with the longest distance."
   ]
  },
  {
   "cell_type": "code",
   "execution_count": 4,
   "id": "4895e934-5d9f-4463-ab38-1189d0ec0c2d",
   "metadata": {},
   "outputs": [],
   "source": [
    "q4_query = \"\"\"SELECT\n",
    "    DATE(lpep_pickup_datetime) AS pickup_day,\n",
    "    MAX(trip_distance) AS longest_trip_distance\n",
    "FROM\n",
    "    green_tripdata\n",
    "GROUP BY\n",
    "    pickup_day\n",
    "ORDER BY\n",
    "    longest_trip_distance DESC\n",
    "LIMIT 1;\"\"\""
   ]
  },
  {
   "cell_type": "code",
   "execution_count": 5,
   "id": "f127d623-8e04-48e5-8642-4d887c949a15",
   "metadata": {},
   "outputs": [
    {
     "name": "stdout",
     "output_type": "stream",
     "text": [
      "[(datetime.date(2019, 10, 31), 515.89)]\n"
     ]
    }
   ],
   "source": [
    "cur.execute(q4_query)\n",
    "rows = cur.fetchall()\n",
    "print(rows)"
   ]
  },
  {
   "cell_type": "markdown",
   "id": "7a3cdf57-3f81-4358-91cb-c6988a651372",
   "metadata": {},
   "source": [
    "## Question 5. Three biggest pickup zones\n",
    "\n",
    "Which were the top pickup locations with over 13,000 in total_amount (across all trips) for 2019-10-18?\n",
    "\n",
    "Consider only lpep_pickup_datetime when filtering by date."
   ]
  },
  {
   "cell_type": "code",
   "execution_count": 6,
   "id": "9f00efda-8991-446f-882d-7dffcf71d1c4",
   "metadata": {},
   "outputs": [],
   "source": [
    "q5_query = \"\"\"SELECT\n",
    "    PULocationID,\n",
    "    SUM(total_amount) AS total_revenue\n",
    "FROM\n",
    "    green_tripdata\n",
    "WHERE\n",
    "    lpep_pickup_datetime::DATE = '2019-10-18'\n",
    "GROUP BY\n",
    "    PULocationID\n",
    "HAVING\n",
    "    SUM(total_amount) > 13000\n",
    "ORDER BY\n",
    "    total_revenue DESC;\"\"\""
   ]
  },
  {
   "cell_type": "code",
   "execution_count": 7,
   "id": "a42a4e97-cabe-4901-9b8f-884adf117212",
   "metadata": {},
   "outputs": [
    {
     "name": "stdout",
     "output_type": "stream",
     "text": [
      "[(74, 18686.680000000084), (75, 16797.26000000007), (166, 13029.790000000039)]\n"
     ]
    }
   ],
   "source": [
    "cur.execute(q5_query)\n",
    "rows = cur.fetchall()\n",
    "print(rows)"
   ]
  },
  {
   "cell_type": "markdown",
   "id": "4cdbf3b5-b3c6-47aa-bba1-7ffa4c70718a",
   "metadata": {},
   "source": [
    "## Question 6. Largest tip\n",
    "\n",
    "For the passengers picked up in October 2019 in the zone named \"East Harlem North\" which was the drop off zone that had the largest tip?\n",
    "\n",
    "Note: it's tip , not trip|\n",
    "\n",
    "We need the name of the zone, not the ID."
   ]
  },
  {
   "cell_type": "code",
   "execution_count": 8,
   "id": "917e6ef6-4e40-4a7a-92b4-3f3339b0f58d",
   "metadata": {},
   "outputs": [],
   "source": [
    "q6_query = \"\"\"SELECT\n",
    "    tz_dropoff.zone AS dropoff_zone,\n",
    "    MAX(gtd.tip_amount) AS largest_tip\n",
    "FROM\n",
    "    green_tripdata gtd\n",
    "JOIN\n",
    "    taxi_zone_lookup tz_pickup ON gtd.PULocationID = tz_pickup.location_id\n",
    "JOIN\n",
    "    taxi_zone_lookup tz_dropoff ON gtd.DOLocationID = tz_dropoff.location_id\n",
    "WHERE\n",
    "    tz_pickup.zone = 'East Harlem North'\n",
    "    AND gtd.lpep_pickup_datetime >= '2019-10-01'\n",
    "    AND gtd.lpep_pickup_datetime < '2019-11-01'\n",
    "GROUP BY\n",
    "    tz_dropoff.zone\n",
    "ORDER BY\n",
    "    largest_tip DESC\n",
    "LIMIT 1;\n",
    "\"\"\""
   ]
  },
  {
   "cell_type": "code",
   "execution_count": 9,
   "id": "08067a85-7875-4227-a97b-923afb4f0472",
   "metadata": {},
   "outputs": [
    {
     "name": "stdout",
     "output_type": "stream",
     "text": [
      "[('JFK Airport', 87.3)]\n"
     ]
    }
   ],
   "source": [
    "cur.execute(q6_query)\n",
    "rows = cur.fetchall()\n",
    "print(rows)"
   ]
  },
  {
   "cell_type": "code",
   "execution_count": 10,
   "id": "28847c07-9940-4f4f-b875-5b60ab96518d",
   "metadata": {},
   "outputs": [],
   "source": [
    "# Close the connection\n",
    "cur.close()\n",
    "conn.close()"
   ]
  },
  {
   "cell_type": "markdown",
   "id": "ca8393e3-8b77-4df7-b394-67b903bc047d",
   "metadata": {},
   "source": [
    "## Question 7. Terraform Workflow\n",
    "\n",
    "Which of the following sequences, respectively, describes the workflow for:\n",
    "\n",
    "    Downloading the provider plugins and setting up backend,\n",
    "    Generating proposed changes and auto-executing the plan\n",
    "    Remove all resources managed by terraform`\n"
   ]
  },
  {
   "cell_type": "markdown",
   "id": "56b85cd6-8295-4d61-a246-3615de7328ff",
   "metadata": {},
   "source": [
    "To do this, we need to perform\n",
    "\n",
    "`terraform init` to download the provider plugins and set up backend,\n",
    "\n",
    "`terraform apply -auto-approve` to generate proposed changes and auto-execute the plan, and\n",
    "\n",
    "`terraform destroy` to remove all resources managed by terraform"
   ]
  }
 ],
 "metadata": {
  "kernelspec": {
   "display_name": "Python 3 (ipykernel)",
   "language": "python",
   "name": "python3"
  },
  "language_info": {
   "codemirror_mode": {
    "name": "ipython",
    "version": 3
   },
   "file_extension": ".py",
   "mimetype": "text/x-python",
   "name": "python",
   "nbconvert_exporter": "python",
   "pygments_lexer": "ipython3",
   "version": "3.8.10"
  }
 },
 "nbformat": 4,
 "nbformat_minor": 5
}
